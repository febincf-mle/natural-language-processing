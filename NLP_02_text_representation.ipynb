{
  "nbformat": 4,
  "nbformat_minor": 0,
  "metadata": {
    "colab": {
      "provenance": [],
      "authorship_tag": "ABX9TyOGKOsDFu9KSvJ9O8ax7QwI",
      "include_colab_link": true
    },
    "kernelspec": {
      "name": "python3",
      "display_name": "Python 3"
    },
    "language_info": {
      "name": "python"
    }
  },
  "cells": [
    {
      "cell_type": "markdown",
      "metadata": {
        "id": "view-in-github",
        "colab_type": "text"
      },
      "source": [
        "<a href=\"https://colab.research.google.com/github/febincf-mle/natural-language-processing/blob/main/NLP_02_text_representation.ipynb\" target=\"_parent\"><img src=\"https://colab.research.google.com/assets/colab-badge.svg\" alt=\"Open In Colab\"/></a>"
      ]
    },
    {
      "cell_type": "markdown",
      "source": [
        "## Install required Packages"
      ],
      "metadata": {
        "id": "tbxto7ISWmFK"
      }
    },
    {
      "cell_type": "code",
      "execution_count": null,
      "metadata": {
        "colab": {
          "base_uri": "https://localhost:8080/"
        },
        "id": "GuPIl4CZWgjy",
        "outputId": "4460de36-2773-4644-cba5-f269fcf31b62"
      },
      "outputs": [
        {
          "output_type": "stream",
          "name": "stdout",
          "text": [
            "Collecting numpy==1.26.4\n",
            "  Using cached numpy-1.26.4-cp311-cp311-manylinux_2_17_x86_64.manylinux2014_x86_64.whl.metadata (61 kB)\n",
            "Using cached numpy-1.26.4-cp311-cp311-manylinux_2_17_x86_64.manylinux2014_x86_64.whl (18.3 MB)\n",
            "Installing collected packages: numpy\n",
            "  Attempting uninstall: numpy\n",
            "    Found existing installation: numpy 1.26.4\n",
            "    Uninstalling numpy-1.26.4:\n",
            "      Successfully uninstalled numpy-1.26.4\n",
            "Successfully installed numpy-1.26.4\n"
          ]
        }
      ],
      "source": [
        "!pip install gensim --quiet\n",
        "!pip install --force-reinstall numpy==1.26.4"
      ]
    },
    {
      "cell_type": "code",
      "source": [
        "import numpy as np\n",
        "np.__version__"
      ],
      "metadata": {
        "colab": {
          "base_uri": "https://localhost:8080/",
          "height": 36
        },
        "id": "TU-fPoQKW_8j",
        "outputId": "2cf245b3-7f79-49b7-c6a5-34ce37e7caf8"
      },
      "execution_count": null,
      "outputs": [
        {
          "output_type": "execute_result",
          "data": {
            "text/plain": [
              "'1.26.4'"
            ],
            "application/vnd.google.colaboratory.intrinsic+json": {
              "type": "string"
            }
          },
          "metadata": {},
          "execution_count": 2
        }
      ]
    },
    {
      "cell_type": "markdown",
      "source": [
        "## Import necessary Libraries"
      ],
      "metadata": {
        "id": "tZW-aXfCXfYK"
      }
    },
    {
      "cell_type": "code",
      "source": [
        "from sklearn.feature_extraction.text import CountVectorizer, TfidfVectorizer\n",
        "from gensim.models import Word2Vec\n",
        "import gensim.downloader as api"
      ],
      "metadata": {
        "id": "walP1DIHXjB1"
      },
      "execution_count": null,
      "outputs": []
    },
    {
      "cell_type": "markdown",
      "source": [
        "## Bag Of Words (binary)"
      ],
      "metadata": {
        "id": "_rVyxTL9XqCt"
      }
    },
    {
      "cell_type": "code",
      "source": [
        "corpus = [\"I love NLP so much that, it feels like it is better than CV\", \"NLP is amazing\", \"NLP is very much a trending topic nowadays\"]\n",
        "vectorizer = CountVectorizer(binary=True)\n",
        "\n",
        "X = vectorizer.fit_transform(corpus)\n",
        "\n",
        "print(vectorizer.get_feature_names_out())\n",
        "print(\"\")\n",
        "print(X.toarray())"
      ],
      "metadata": {
        "colab": {
          "base_uri": "https://localhost:8080/"
        },
        "id": "a7_zv69lXtrN",
        "outputId": "46b4fd87-22e2-44f7-84ed-9fa3a260398a"
      },
      "execution_count": null,
      "outputs": [
        {
          "output_type": "stream",
          "name": "stdout",
          "text": [
            "['amazing' 'better' 'cv' 'feels' 'is' 'it' 'like' 'love' 'much' 'nlp'\n",
            " 'nowadays' 'so' 'than' 'that' 'topic' 'trending' 'very']\n",
            "\n",
            "[[0 1 1 1 1 1 1 1 1 1 0 1 1 1 0 0 0]\n",
            " [1 0 0 0 1 0 0 0 0 1 0 0 0 0 0 0 0]\n",
            " [0 0 0 0 1 0 0 0 1 1 1 0 0 0 1 1 1]]\n"
          ]
        }
      ]
    },
    {
      "cell_type": "markdown",
      "source": [
        "## Bag of Words (Frequecy)"
      ],
      "metadata": {
        "id": "jb7YvmwjYi-s"
      }
    },
    {
      "cell_type": "code",
      "source": [
        "corpus = [\"I love NLP so much that, it feels like it is better than CV\", \"NLP is amazing\", \"NLP is very much a trending topic nowadays\"]\n",
        "vectorizer = CountVectorizer(binary=False)\n",
        "\n",
        "X = vectorizer.fit_transform(corpus)\n",
        "\n",
        "print(vectorizer.get_feature_names_out())\n",
        "print(\"\")\n",
        "print(X.toarray())"
      ],
      "metadata": {
        "colab": {
          "base_uri": "https://localhost:8080/"
        },
        "id": "4cjLx7jjYmAr",
        "outputId": "565b596b-2799-41a7-c438-65da01db4676"
      },
      "execution_count": null,
      "outputs": [
        {
          "output_type": "stream",
          "name": "stdout",
          "text": [
            "['amazing' 'better' 'cv' 'feels' 'is' 'it' 'like' 'love' 'much' 'nlp'\n",
            " 'nowadays' 'so' 'than' 'that' 'topic' 'trending' 'very']\n",
            "\n",
            "[[0 1 1 1 1 2 1 1 1 1 0 1 1 1 0 0 0]\n",
            " [1 0 0 0 1 0 0 0 0 1 0 0 0 0 0 0 0]\n",
            " [0 0 0 0 1 0 0 0 1 1 1 0 0 0 1 1 1]]\n"
          ]
        }
      ]
    },
    {
      "cell_type": "markdown",
      "source": [
        "## Bag of Words (ngram)"
      ],
      "metadata": {
        "id": "03O4xAJOYsLM"
      }
    },
    {
      "cell_type": "code",
      "source": [
        "corpus = [\"I love NLP so much that, it feels like it is better than CV\", \"NLP is amazing\", \"NLP is very much a trending topic nowadays\"]\n",
        "vectorizer = CountVectorizer(binary=False, ngram_range=(2, 2))\n",
        "\n",
        "X = vectorizer.fit_transform(corpus)\n",
        "\n",
        "print(vectorizer.get_feature_names_out())\n",
        "print(\"\")\n",
        "print(X.toarray())"
      ],
      "metadata": {
        "colab": {
          "base_uri": "https://localhost:8080/"
        },
        "id": "oOzPYVJMYuWy",
        "outputId": "962a33f1-4839-4f40-aac3-26f8a09cb4eb"
      },
      "execution_count": null,
      "outputs": [
        {
          "output_type": "stream",
          "name": "stdout",
          "text": [
            "['better than' 'feels like' 'is amazing' 'is better' 'is very' 'it feels'\n",
            " 'it is' 'like it' 'love nlp' 'much that' 'much trending' 'nlp is'\n",
            " 'nlp so' 'so much' 'than cv' 'that it' 'topic nowadays' 'trending topic'\n",
            " 'very much']\n",
            "\n",
            "[[1 1 0 1 0 1 1 1 1 1 0 0 1 1 1 1 0 0 0]\n",
            " [0 0 1 0 0 0 0 0 0 0 0 1 0 0 0 0 0 0 0]\n",
            " [0 0 0 0 1 0 0 0 0 0 1 1 0 0 0 0 1 1 1]]\n"
          ]
        }
      ]
    },
    {
      "cell_type": "markdown",
      "source": [
        "## TF-IDF Vectorization"
      ],
      "metadata": {
        "id": "va8KLYGKZJWH"
      }
    },
    {
      "cell_type": "code",
      "source": [
        "corpus = [\"I love NLP so much that, it feels like it is better than CV\", \"NLP is amazing\", \"NLP is very much a trending topic nowadays\"]\n",
        "vectorizer = TfidfVectorizer()\n",
        "\n",
        "X = vectorizer.fit_transform(corpus)\n",
        "\n",
        "print(vectorizer.get_feature_names_out())\n",
        "print(\"\")\n",
        "print(X.toarray())"
      ],
      "metadata": {
        "colab": {
          "base_uri": "https://localhost:8080/"
        },
        "id": "ERuDfPr2ZLeu",
        "outputId": "bc90ae3c-931b-481f-a812-81736db87d81"
      },
      "execution_count": null,
      "outputs": [
        {
          "output_type": "stream",
          "name": "stdout",
          "text": [
            "['amazing' 'better' 'cv' 'feels' 'is' 'it' 'like' 'love' 'much' 'nlp'\n",
            " 'nowadays' 'so' 'than' 'that' 'topic' 'trending' 'very']\n",
            "\n",
            "[[0.         0.27445143 0.27445143 0.27445143 0.16209543 0.54890285\n",
            "  0.27445143 0.27445143 0.20872738 0.16209543 0.         0.27445143\n",
            "  0.27445143 0.27445143 0.         0.         0.        ]\n",
            " [0.76749457 0.         0.         0.         0.45329466 0.\n",
            "  0.         0.         0.         0.45329466 0.         0.\n",
            "  0.         0.         0.         0.         0.        ]\n",
            " [0.         0.         0.         0.         0.25712876 0.\n",
            "  0.         0.         0.3311001  0.25712876 0.43535684 0.\n",
            "  0.         0.         0.43535684 0.43535684 0.43535684]]\n"
          ]
        }
      ]
    },
    {
      "cell_type": "markdown",
      "source": [
        "## TF-IDF Vectorization (ngram)"
      ],
      "metadata": {
        "id": "fzKdV6PdZT7K"
      }
    },
    {
      "cell_type": "code",
      "source": [
        "corpus = [\"I love NLP so much that, it feels like it is better than CV\", \"NLP is amazing\", \"NLP is very much a trending topic nowadays\"]\n",
        "vectorizer = TfidfVectorizer(ngram_range=(2, 2))\n",
        "\n",
        "X = vectorizer.fit_transform(corpus)\n",
        "\n",
        "print(vectorizer.get_feature_names_out())\n",
        "print(\"\")\n",
        "print(X.toarray())"
      ],
      "metadata": {
        "colab": {
          "base_uri": "https://localhost:8080/"
        },
        "id": "M_9wG9jMZZD6",
        "outputId": "4921dc4a-2c4d-4abc-9e75-657c691e7e4f"
      },
      "execution_count": null,
      "outputs": [
        {
          "output_type": "stream",
          "name": "stdout",
          "text": [
            "['better than' 'feels like' 'is amazing' 'is better' 'is very' 'it feels'\n",
            " 'it is' 'like it' 'love nlp' 'much that' 'much trending' 'nlp is'\n",
            " 'nlp so' 'so much' 'than cv' 'that it' 'topic nowadays' 'trending topic'\n",
            " 'very much']\n",
            "\n",
            "[[0.28867513 0.28867513 0.         0.28867513 0.         0.28867513\n",
            "  0.28867513 0.28867513 0.28867513 0.28867513 0.         0.\n",
            "  0.28867513 0.28867513 0.28867513 0.28867513 0.         0.\n",
            "  0.        ]\n",
            " [0.         0.         0.79596054 0.         0.         0.\n",
            "  0.         0.         0.         0.         0.         0.60534851\n",
            "  0.         0.         0.         0.         0.         0.\n",
            "  0.        ]\n",
            " [0.         0.         0.         0.         0.42339448 0.\n",
            "  0.         0.         0.         0.         0.42339448 0.32200242\n",
            "  0.         0.         0.         0.         0.42339448 0.42339448\n",
            "  0.42339448]]\n"
          ]
        }
      ]
    },
    {
      "cell_type": "markdown",
      "source": [
        "## Word2Vec (pre-trained)"
      ],
      "metadata": {
        "id": "fwEyO_5nZyMV"
      }
    },
    {
      "cell_type": "code",
      "source": [
        "# load the pretrained model.\n",
        "model = api.load(\"word2vec-google-news-300\")\n",
        "model.wv['Ambulance']\n",
        "\n",
        "# create a list of sentences and then average it out to represent it.\n",
        "sentence = \"I love NLP so much that, it feels like it is better than CV\"\n",
        "vectorized_sentence = [np.mean([model.wv[word] for word in sentence.split()], axis=0)]"
      ],
      "metadata": {
        "id": "NLOR7_UmZ0Af"
      },
      "execution_count": null,
      "outputs": []
    },
    {
      "cell_type": "markdown",
      "source": [
        "## Word2Vec (Custom)"
      ],
      "metadata": {
        "id": "rdLS1hg_ahmu"
      }
    },
    {
      "cell_type": "code",
      "source": [
        "corpus = [\n",
        "    \"I love NLP so much that, it feels like it is better than CV\".split(\" \"),\n",
        "    \"NLP is amazing\", \"NLP is very much a trending topic nowadays\".split(\" \")\n",
        "    ]\n",
        "\n",
        "model = Word2Vec(\n",
        "    vector_size=20,  # Size of word vectors\n",
        "    window=5,  # Context window\n",
        "    min_count=1,  # Ignore words with frequency < min_count\n",
        "    workers=4,  # Number of CPU cores\n",
        "    sg=1  # skip gram\n",
        ")\n",
        "\n",
        "\n",
        "model.build_vocab(corpus)\n",
        "model.train(corpus, total_examples=model.corpus_count, epochs=10)\n",
        "\n",
        "model.wv['NLP']"
      ],
      "metadata": {
        "colab": {
          "base_uri": "https://localhost:8080/"
        },
        "id": "k-Cc5_0EakI7",
        "outputId": "c206b6c4-cc8e-41c4-bc9f-77e998fd1a04"
      },
      "execution_count": null,
      "outputs": [
        {
          "output_type": "execute_result",
          "data": {
            "text/plain": [
              "array([ 0.03652146,  0.02537209,  0.03382076,  0.00384857,  0.03178381,\n",
              "       -0.0170216 , -0.00467259,  0.0289336 , -0.03771108, -0.01966709,\n",
              "       -0.03754148, -0.00472786,  0.04766761, -0.03665436, -0.01167728,\n",
              "       -0.00967728,  0.04051415, -0.02964373,  0.00014709, -0.02382827],\n",
              "      dtype=float32)"
            ]
          },
          "metadata": {},
          "execution_count": 18
        }
      ]
    }
  ]
}